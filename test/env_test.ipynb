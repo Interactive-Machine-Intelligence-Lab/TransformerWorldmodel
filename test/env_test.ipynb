{
 "cells": [
  {
   "cell_type": "code",
   "execution_count": 1,
   "metadata": {},
   "outputs": [],
   "source": [
    "import sys\n",
    "sys.path.append(\"..\")\n",
    "\n",
    "from envs.make_envs import make_unity_gym"
   ]
  },
  {
   "cell_type": "code",
   "execution_count": 2,
   "metadata": {},
   "outputs": [
    {
     "name": "stdout",
     "output_type": "stream",
     "text": [
      "Making Workder Id : 0\n",
      "[INFO] Connected to Unity environment with package version 2.3.0-exp.4 and communication version 1.5.0\n",
      "[INFO] Connected new brain: PushBlockCollab?team=0\n",
      "Created! Workder Id : 0\n"
     ]
    }
   ],
   "source": [
    "env = make_unity_gym(path='../envs/pushblock/mac_build.app')"
   ]
  },
  {
   "cell_type": "code",
   "execution_count": 3,
   "metadata": {},
   "outputs": [],
   "source": [
    "res = env.step({0:1, 1:2})"
   ]
  },
  {
   "cell_type": "code",
   "execution_count": 9,
   "metadata": {},
   "outputs": [
    {
     "data": {
      "text/plain": [
       "(64, 64, 3)"
      ]
     },
     "execution_count": 9,
     "metadata": {},
     "output_type": "execute_result"
    }
   ],
   "source": [
    "res[0][0].shape"
   ]
  },
  {
   "cell_type": "code",
   "execution_count": 7,
   "metadata": {},
   "outputs": [
    {
     "ename": "UnityEnvironmentException",
     "evalue": "No Unity environment is loaded.",
     "output_type": "error",
     "traceback": [
      "\u001b[0;31m---------------------------------------------------------------------------\u001b[0m",
      "\u001b[0;31mUnityEnvironmentException\u001b[0m                 Traceback (most recent call last)",
      "Cell \u001b[0;32mIn[7], line 1\u001b[0m\n\u001b[0;32m----> 1\u001b[0m env\u001b[39m.\u001b[39;49mclose()\n",
      "File \u001b[0;32m~/anaconda3/envs/mlagent/lib/python3.8/site-packages/gym/core.py:298\u001b[0m, in \u001b[0;36mWrapper.close\u001b[0;34m(self)\u001b[0m\n\u001b[1;32m    297\u001b[0m \u001b[39mdef\u001b[39;00m \u001b[39mclose\u001b[39m(\u001b[39mself\u001b[39m):\n\u001b[0;32m--> 298\u001b[0m     \u001b[39mreturn\u001b[39;00m \u001b[39mself\u001b[39;49m\u001b[39m.\u001b[39;49menv\u001b[39m.\u001b[39;49mclose()\n",
      "File \u001b[0;32m~/anaconda3/envs/mlagent/lib/python3.8/site-packages/gym/core.py:298\u001b[0m, in \u001b[0;36mWrapper.close\u001b[0;34m(self)\u001b[0m\n\u001b[1;32m    297\u001b[0m \u001b[39mdef\u001b[39;00m \u001b[39mclose\u001b[39m(\u001b[39mself\u001b[39m):\n\u001b[0;32m--> 298\u001b[0m     \u001b[39mreturn\u001b[39;00m \u001b[39mself\u001b[39;49m\u001b[39m.\u001b[39;49menv\u001b[39m.\u001b[39;49mclose()\n",
      "File \u001b[0;32m~/Desktop/multiagenttest/TransformerWorldmodel/test/../envs/multiagent_wrapper.py:321\u001b[0m, in \u001b[0;36mMultiUnityWrapper.close\u001b[0;34m(self)\u001b[0m\n\u001b[1;32m    315\u001b[0m \u001b[39mdef\u001b[39;00m \u001b[39mclose\u001b[39m(\u001b[39mself\u001b[39m) \u001b[39m-\u001b[39m\u001b[39m>\u001b[39m \u001b[39mNone\u001b[39;00m:\n\u001b[1;32m    316\u001b[0m \u001b[39m    \u001b[39m\u001b[39m\"\"\"\u001b[39;00m\n\u001b[1;32m    317\u001b[0m \u001b[39m    Override _close in your subclass to perform any necessary cleanup.\u001b[39;00m\n\u001b[1;32m    318\u001b[0m \u001b[39m    Environments will automatically close() themselves when\u001b[39;00m\n\u001b[1;32m    319\u001b[0m \u001b[39m    garbage collected or when the program exits.\u001b[39;00m\n\u001b[1;32m    320\u001b[0m \u001b[39m    \"\"\"\u001b[39;00m\n\u001b[0;32m--> 321\u001b[0m     \u001b[39mself\u001b[39;49m\u001b[39m.\u001b[39;49m_env\u001b[39m.\u001b[39;49mclose()\n",
      "File \u001b[0;32m~/Desktop/ml-agents/ml-agents-envs/mlagents_envs/environment.py:427\u001b[0m, in \u001b[0;36mUnityEnvironment.close\u001b[0;34m(self)\u001b[0m\n\u001b[1;32m    425\u001b[0m     \u001b[39mself\u001b[39m\u001b[39m.\u001b[39m_close()\n\u001b[1;32m    426\u001b[0m \u001b[39melse\u001b[39;00m:\n\u001b[0;32m--> 427\u001b[0m     \u001b[39mraise\u001b[39;00m UnityEnvironmentException(\u001b[39m\"\u001b[39m\u001b[39mNo Unity environment is loaded.\u001b[39m\u001b[39m\"\u001b[39m)\n",
      "\u001b[0;31mUnityEnvironmentException\u001b[0m: No Unity environment is loaded."
     ]
    }
   ],
   "source": [
    "env.close()"
   ]
  },
  {
   "cell_type": "code",
   "execution_count": 2,
   "metadata": {},
   "outputs": [
    {
     "name": "stdout",
     "output_type": "stream",
     "text": [
      "1 2\n"
     ]
    }
   ],
   "source": [
    "def test(a, b):\n",
    "    print(a, b)\n",
    "\n",
    "test(*[1, 2])"
   ]
  }
 ],
 "metadata": {
  "kernelspec": {
   "display_name": "mlagent",
   "language": "python",
   "name": "python3"
  },
  "language_info": {
   "codemirror_mode": {
    "name": "ipython",
    "version": 3
   },
   "file_extension": ".py",
   "mimetype": "text/x-python",
   "name": "python",
   "nbconvert_exporter": "python",
   "pygments_lexer": "ipython3",
   "version": "3.8.16"
  },
  "orig_nbformat": 4
 },
 "nbformat": 4,
 "nbformat_minor": 2
}
